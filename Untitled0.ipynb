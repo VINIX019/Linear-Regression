{
  "nbformat": 4,
  "nbformat_minor": 0,
  "metadata": {
    "colab": {
      "provenance": [],
      "toc_visible": true,
      "authorship_tag": "ABX9TyOatMMDI2KU5HPUyC4F57rc",
      "include_colab_link": true
    },
    "kernelspec": {
      "name": "python3",
      "display_name": "Python 3"
    },
    "language_info": {
      "name": "python"
    }
  },
  "cells": [
    {
      "cell_type": "markdown",
      "metadata": {
        "id": "view-in-github",
        "colab_type": "text"
      },
      "source": [
        "<a href=\"https://colab.research.google.com/github/VINIX019/Linear-Regression/blob/main/Untitled0.ipynb\" target=\"_parent\"><img src=\"https://colab.research.google.com/assets/colab-badge.svg\" alt=\"Open In Colab\"/></a>"
      ]
    },
    {
      "cell_type": "code",
      "source": [
        "from numpy import *\n",
        "class LinearRegression:\n",
        "    def __init__(self, x, y):\n",
        "      self.x = x\n",
        "      self.y = y\n",
        "      self.__correlation_coefficient = self.__correlacao()\n",
        "      self.__inclination = self.__inclinacao()\n",
        "      self.__intercept = self.__interceptacao()\n",
        "\n",
        "    def __correlacao(self):\n",
        "      covariacao = cov(self.x, self.y, bias=True)[0][1]\n",
        "      variancia_x = var(self.x)\n",
        "      variancia_y = var(self.y)\n",
        "      return covariacao / sqrt(variancia_x * variancia_y)\n",
        "\n",
        "    def __inclinacao(self):\n",
        "      stdx = std(self.x)\n",
        "      stdy = std(self.y)\n",
        "      return self.__correlation_coefficient * (stdy / stdx)\n",
        "\n",
        "\n",
        "    def __interceptacao(self):\n",
        "      mediax = mean(self.x)\n",
        "      mediay = mean(self.y)\n",
        "      return mediay - (self.__inclination * mediax)\n",
        "\n",
        "\n",
        "    def previsao(self, valor):\n",
        "      return self.__intercept + (self.__inclination * valor)"
      ],
      "metadata": {
        "id": "mnOYj_t1CDK7"
      },
      "execution_count": 21,
      "outputs": []
    },
    {
      "cell_type": "code",
      "source": [
        "x = array([1,2,3,4,5])\n",
        "y = array([2,4,6,8,10])\n",
        "\n",
        "lr = LinearRegression(x, y)\n",
        "previsao = lr.previsao(6)\n",
        "print(previsao)"
      ],
      "metadata": {
        "colab": {
          "base_uri": "https://localhost:8080/"
        },
        "id": "l1tkyURw4Mq0",
        "outputId": "4f5343c4-86c3-47c2-cbac-8c03ecfd8a09"
      },
      "execution_count": 22,
      "outputs": [
        {
          "output_type": "stream",
          "name": "stdout",
          "text": [
            "12.0\n"
          ]
        }
      ]
    }
  ]
}